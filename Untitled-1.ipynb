{
 "cells": [
  {
   "cell_type": "markdown",
   "metadata": {},
   "source": [
    "So you’re on the right track in iterating over `'soccer_match'` and trying to check if each the player is a captain. But your syntax needs adjustment in order to call the actual item where captain is stored.\n",
    "\n",
    "Important to note the structure of `soccer_match`. It looks like a list with two large dictionaries in them. Inside each dictionary the values vary from booleans, lists, ints, etc. One of the values is under the key `'players'`, which is itself a list of dictionaries. It’s common to nest lists and dictionaries like this and you have to know how to call extract their values. \n",
    "\n",
    "If I wanted the captain status of just the first player on the first team, I would run:"
   ]
  },
  {
   "cell_type": "code",
   "execution_count": null,
   "metadata": {},
   "outputs": [],
   "source": [
    "first_team = soccer_match[0]          # soccer_match is a list, so it's indexed by number\n",
    "players = first_team['players']       # first_team is a dictionary, so it's indexed by keys\n",
    "player = players[0]                   # players is a list...\n",
    "is_captain = player['captain']        # player is a dictionary...\n",
    "\n",
    "\n",
    "# Alternatively I can skip assigning all these variables and jump to captain\n",
    "is_captain  = soccer_match[0]['players'][0]['captain']"
   ]
  },
  {
   "cell_type": "markdown",
   "metadata": {},
   "source": [
    "I don’t think I should give you the exact code for the loops but I think it would help if I spelled out the steps verbally.\n",
    "\n",
    "Another layer that complicates this is that you need to nest a loop within another loop. That's because you need to loop through each player within each team. So syntax will be important, especially indentation.\n",
    "\n",
    "Keep in mind that there are multiple ways to do this. You could theoretically do it in one or two lines if you don’t want to assign variables and just skip to the appending part.\n",
    "\n",
    "### Steps:\n",
    "\n",
    "**For each team in `soccer_match`:**\n",
    "\n",
    "Save the list of players to a variable, `players`.\n",
    "\n",
    "**For each player in `players`:**\n",
    "\n",
    "Save the player’s dict to a variable, `player`.\n",
    "\n",
    "Get the player’s name. Save it to a variable, `name`.\n",
    "\n",
    "Check if the player is a captain using the value in `player['captain']` \n",
    "\n",
    "If so, append `name` to the list `captains`."
   ]
  }
 ],
 "metadata": {
  "language_info": {
   "name": "python"
  }
 },
 "nbformat": 4,
 "nbformat_minor": 2
}
